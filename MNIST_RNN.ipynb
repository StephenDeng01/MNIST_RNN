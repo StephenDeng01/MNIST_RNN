{
 "cells": [
  {
   "cell_type": "code",
   "id": "initial_id",
   "metadata": {
    "collapsed": true,
    "ExecuteTime": {
     "end_time": "2024-07-14T12:40:44.540034Z",
     "start_time": "2024-07-14T12:40:42.636188Z"
    }
   },
   "source": [
    "import torch\n",
    "import torch.nn as nn\n",
    "import torchvision.transforms as transforms\n",
    "import torchvision.datasets as datasets\n",
    "import torchvision\n",
    "import numpy as np\n",
    "import matplotlib.pyplot as plt\n",
    "import pandas as pd"
   ],
   "outputs": [],
   "execution_count": 1
  },
  {
   "metadata": {
    "ExecuteTime": {
     "end_time": "2024-07-14T12:40:44.588037Z",
     "start_time": "2024-07-14T12:40:44.542038Z"
    }
   },
   "cell_type": "code",
   "source": [
    "trainsets = datasets.MNIST(root='./data', train=True, transform=transforms.ToTensor(), download=True)\n",
    "\n",
    "testsets = datasets.MNIST(root='./data', train=False, transform=transforms.ToTensor())"
   ],
   "id": "5c978dffc75d68bd",
   "outputs": [],
   "execution_count": 2
  },
  {
   "metadata": {
    "ExecuteTime": {
     "end_time": "2024-07-14T12:40:44.604037Z",
     "start_time": "2024-07-14T12:40:44.589037Z"
    }
   },
   "cell_type": "code",
   "source": [
    "class_names = trainsets.classes  # 查看类别、标签\n",
    "print(class_names)"
   ],
   "id": "cdd4f6e4ded3d70",
   "outputs": [
    {
     "name": "stdout",
     "output_type": "stream",
     "text": [
      "['0 - zero', '1 - one', '2 - two', '3 - three', '4 - four', '5 - five', '6 - six', '7 - seven', '8 - eight', '9 - nine']\n"
     ]
    }
   ],
   "execution_count": 3
  },
  {
   "metadata": {
    "ExecuteTime": {
     "end_time": "2024-07-14T12:40:44.620037Z",
     "start_time": "2024-07-14T12:40:44.605043Z"
    }
   },
   "cell_type": "code",
   "source": [
    "# 查看数据集的大小\n",
    "print(trainsets.targets.shape)"
   ],
   "id": "b1eaa06cffcbb271",
   "outputs": [
    {
     "name": "stdout",
     "output_type": "stream",
     "text": [
      "torch.Size([60000])\n"
     ]
    }
   ],
   "execution_count": 4
  },
  {
   "metadata": {
    "ExecuteTime": {
     "end_time": "2024-07-14T12:40:44.636037Z",
     "start_time": "2024-07-14T12:40:44.622037Z"
    }
   },
   "cell_type": "code",
   "source": "print(testsets.targets.shape)",
   "id": "43b70df9b95bd43a",
   "outputs": [
    {
     "name": "stdout",
     "output_type": "stream",
     "text": [
      "torch.Size([10000])\n"
     ]
    }
   ],
   "execution_count": 5
  },
  {
   "metadata": {
    "ExecuteTime": {
     "end_time": "2024-07-14T12:40:44.652037Z",
     "start_time": "2024-07-14T12:40:44.637037Z"
    }
   },
   "cell_type": "code",
   "source": [
    "# 定义超参数\n",
    "BATCH_SIZE = 128\n",
    "EPOCHS = 10"
   ],
   "id": "68b157d642da83b7",
   "outputs": [],
   "execution_count": 6
  },
  {
   "metadata": {
    "ExecuteTime": {
     "end_time": "2024-07-14T12:40:44.668037Z",
     "start_time": "2024-07-14T12:40:44.653037Z"
    }
   },
   "cell_type": "code",
   "source": [
    "# 创建数据集的可迭代对象，一个BATCH一个BATCH的读取\n",
    "train_loader = torch.utils.data.DataLoader(trainsets, batch_size=BATCH_SIZE, shuffle=True)\n",
    "test_loader = torch.utils.data.DataLoader(testsets, batch_size=BATCH_SIZE, shuffle=False)"
   ],
   "id": "c00571c0e57c2612",
   "outputs": [],
   "execution_count": 7
  },
  {
   "metadata": {
    "ExecuteTime": {
     "end_time": "2024-07-14T12:40:44.700068Z",
     "start_time": "2024-07-14T12:40:44.669037Z"
    }
   },
   "cell_type": "code",
   "source": [
    "# 查看一批BATCH的数据\n",
    "\n",
    "iamges, labels = next(iter(train_loader))"
   ],
   "id": "e8da164985616198",
   "outputs": [],
   "execution_count": 8
  },
  {
   "metadata": {
    "ExecuteTime": {
     "end_time": "2024-07-14T12:40:44.715037Z",
     "start_time": "2024-07-14T12:40:44.701037Z"
    }
   },
   "cell_type": "code",
   "source": "print(iamges.shape)",
   "id": "bd1c54b3835d382a",
   "outputs": [
    {
     "name": "stdout",
     "output_type": "stream",
     "text": [
      "torch.Size([128, 1, 28, 28])\n"
     ]
    }
   ],
   "execution_count": 9
  },
  {
   "metadata": {
    "ExecuteTime": {
     "end_time": "2024-07-14T12:40:44.731037Z",
     "start_time": "2024-07-14T12:40:44.716037Z"
    }
   },
   "cell_type": "code",
   "source": "print(labels.shape)",
   "id": "ca7c7a17ea8ad51e",
   "outputs": [
    {
     "name": "stdout",
     "output_type": "stream",
     "text": [
      "torch.Size([128])\n"
     ]
    }
   ],
   "execution_count": 10
  },
  {
   "metadata": {
    "ExecuteTime": {
     "end_time": "2024-07-14T12:40:44.747037Z",
     "start_time": "2024-07-14T12:40:44.732037Z"
    }
   },
   "cell_type": "code",
   "source": [
    "# 定义函数，显示一批数据\n",
    "def imshow(inp, title=None):\n",
    "    inp = inp.numpy().transpose((1, 2, 0))  # 见上文1,28,28，格式要求把28,28放到前面，把颜色通道1放到后面。\n",
    "    mean = np.array([0.485, 0.456, 0.406])\n",
    "    std = np.array([0.229, 0.224, 0.225]) # 标准差\n",
    "    inp = std * inp + mean  # 从numpy到tensor有一个归一化的过程，这个过程相当于反归一化\n",
    "    inp = np.clip(inp, 0, 1) # 将数据进行压缩，像素值限制在0到1\n",
    "    if title is not None:\n",
    "        plt.title(title)\n",
    "    plt.pause(0.001)"
   ],
   "id": "185b530f94c26c15",
   "outputs": [],
   "execution_count": 11
  },
  {
   "metadata": {
    "ExecuteTime": {
     "end_time": "2024-07-14T12:40:44.779037Z",
     "start_time": "2024-07-14T12:40:44.748038Z"
    }
   },
   "cell_type": "code",
   "source": [
    "# 通过网格显示\n",
    "out = torchvision.utils.make_grid(iamges)\n",
    "imshow(out)"
   ],
   "id": "f72a1233b87c1559",
   "outputs": [],
   "execution_count": 12
  },
  {
   "metadata": {
    "ExecuteTime": {
     "end_time": "2024-07-14T12:40:44.795037Z",
     "start_time": "2024-07-14T12:40:44.780037Z"
    }
   },
   "cell_type": "code",
   "source": [
    "# 定义RNN模型\n",
    "class RNN_Model(nn.Module):\n",
    "    def __init__(self, input_size, hidden_size, layer_size, output_size):\n",
    "        super(RNN_Model, self).__init__()\n",
    "        self.hidden_size = hidden_size\n",
    "        self.layer_size = layer_size\n",
    "        self.rnn = nn.RNN(input_size, hidden_size, layer_size, batch_first=True, nonlinearity='relu')\n",
    "        \n",
    "        # 全连接层\n",
    "        self.fc = nn.Linear(hidden_size, output_size)\n",
    "        \n",
    "    def forward(self, x):\n",
    "        h0 = torch.zeros(self.layer_size, x.size(0), self.hidden_size).requires_grad_().to(device)\n",
    "        # 分离隐藏层状态，防止梯度爆炸\n",
    "        out, hn = self.rnn(x, h0.detach())\n",
    "        out = self.fc(out[:, -1, :])\n",
    "        return out"
   ],
   "id": "bf630ed20c3d627",
   "outputs": [],
   "execution_count": 13
  },
  {
   "metadata": {
    "ExecuteTime": {
     "end_time": "2024-07-14T12:40:44.922116Z",
     "start_time": "2024-07-14T12:40:44.798037Z"
    }
   },
   "cell_type": "code",
   "source": [
    "# 初始化模型\n",
    "input_size = 28\n",
    "hidden_size = 128\n",
    "layer_size = 2\n",
    "output_size = 10\n",
    "\n",
    "device = torch.device('cuda' if torch.cuda.is_available() else 'cpu')\n",
    "model = RNN_Model(input_size, hidden_size, layer_size, output_size).to(device)\n",
    "\n"
   ],
   "id": "4626e88223c4fb5b",
   "outputs": [],
   "execution_count": 14
  },
  {
   "metadata": {
    "ExecuteTime": {
     "end_time": "2024-07-14T12:40:44.937326Z",
     "start_time": "2024-07-14T12:40:44.923177Z"
    }
   },
   "cell_type": "code",
   "source": [
    "# 定义损失函数\n",
    "criterion = nn.CrossEntropyLoss()  # 交叉熵\n"
   ],
   "id": "bd44927b6d6450fa",
   "outputs": [],
   "execution_count": 15
  },
  {
   "metadata": {
    "ExecuteTime": {
     "end_time": "2024-07-14T12:40:44.953069Z",
     "start_time": "2024-07-14T12:40:44.938306Z"
    }
   },
   "cell_type": "code",
   "source": [
    "# 定义优化器\n",
    "optimizer = torch.optim.SGD(model.parameters(), lr=0.012)"
   ],
   "id": "af51b3bd7ac25f97",
   "outputs": [],
   "execution_count": 16
  },
  {
   "metadata": {
    "ExecuteTime": {
     "end_time": "2024-07-14T12:40:44.969071Z",
     "start_time": "2024-07-14T12:40:44.955071Z"
    }
   },
   "cell_type": "code",
   "source": [
    "# 11.输出模型信息\n",
    "print(len(list(model.parameters())))\n"
   ],
   "id": "5920e4e74baf6994",
   "outputs": [
    {
     "name": "stdout",
     "output_type": "stream",
     "text": [
      "10\n"
     ]
    }
   ],
   "execution_count": 17
  },
  {
   "metadata": {
    "ExecuteTime": {
     "end_time": "2024-07-14T12:40:44.985084Z",
     "start_time": "2024-07-14T12:40:44.971070Z"
    }
   },
   "cell_type": "code",
   "source": [
    "# 循环打印模型参数\n",
    "for i in range(10):\n",
    "    print(\"参数：%d\"% (i + 1))\n",
    "    print(list(model.parameters())[i].size())\n",
    "    "
   ],
   "id": "3c48889d021e2bce",
   "outputs": [
    {
     "name": "stdout",
     "output_type": "stream",
     "text": [
      "参数：1\n",
      "torch.Size([128, 28])\n",
      "参数：2\n",
      "torch.Size([128, 128])\n",
      "参数：3\n",
      "torch.Size([128])\n",
      "参数：4\n",
      "torch.Size([128])\n",
      "参数：5\n",
      "torch.Size([128, 128])\n",
      "参数：6\n",
      "torch.Size([128, 128])\n",
      "参数：7\n",
      "torch.Size([128])\n",
      "参数：8\n",
      "torch.Size([128])\n",
      "参数：9\n",
      "torch.Size([10, 128])\n",
      "参数：10\n",
      "torch.Size([10])\n"
     ]
    }
   ],
   "execution_count": 18
  },
  {
   "metadata": {
    "ExecuteTime": {
     "end_time": "2024-07-14T12:42:09.368682Z",
     "start_time": "2024-07-14T12:40:44.986084Z"
    }
   },
   "cell_type": "code",
   "source": [
    "# 进行模型训练\n",
    "sequence_size = 28\n",
    "loss_list = []\n",
    "accuracy_list = []\n",
    "iteration_list = []  # 保存循环次数\n",
    "\n",
    "iter = 0\n",
    "for epoch in range(EPOCHS):\n",
    "    for i, (images, labels) in enumerate(train_loader):  # 拿一批数据\n",
    "        model.train()\n",
    "        images = images.view(-1, sequence_size, input_size).requires_grad_().to(device)\n",
    "        labels = labels.to(device)\n",
    "        # 梯度清零\n",
    "        optimizer.zero_grad()\n",
    "        outputs = model(images)\n",
    "        loss = criterion(outputs, labels)\n",
    "        loss.backward()\n",
    "        optimizer.step() # 更新参数\n",
    "        iter += 1\n",
    "        if iter % 500 == 0:\n",
    "            model.eval()\n",
    "            correct = 0\n",
    "            total = 0\n",
    "            for images, labels in test_loader:\n",
    "                images = images.view(-1, sequence_size, input_size).to(device)\n",
    "                labels = labels.to(device)\n",
    "                outputs = model(images)\n",
    "                _, predicted = torch.max(outputs.data, 1)\n",
    "                total += labels.size(0)\n",
    "                if torch.cuda.is_available():\n",
    "                    correct += (predicted.cuda() == labels.cuda()).sum()\n",
    "                else:\n",
    "                    correct += (predicted == labels).sum\n",
    "                    \n",
    "            accuracy = correct / total * 100\n",
    "            loss_list.append(loss.data)\n",
    "            accuracy_list.append(accuracy)\n",
    "            iteration_list.append(iter)\n",
    "            \n",
    "            print(\"loop:{}, loss:{}, accuracy:{}\".format(iter, loss.item(), accuracy))"
   ],
   "id": "6d1f07da9bb224d7",
   "outputs": [
    {
     "name": "stdout",
     "output_type": "stream",
     "text": [
      "loop:500, loss:2.2949116230010986, accuracy:11.350000381469727\n",
      "loop:1000, loss:2.2779314517974854, accuracy:13.00999927520752\n",
      "loop:1500, loss:2.2339136600494385, accuracy:19.190000534057617\n",
      "loop:2000, loss:1.0955324172973633, accuracy:57.41999816894531\n",
      "loop:2500, loss:0.7121160626411438, accuracy:66.99999237060547\n",
      "loop:3000, loss:0.5171836614608765, accuracy:83.83000183105469\n",
      "loop:3500, loss:0.46500808000564575, accuracy:88.1199951171875\n",
      "loop:4000, loss:0.26746976375579834, accuracy:91.47999572753906\n",
      "loop:4500, loss:0.1759953498840332, accuracy:94.07999420166016\n"
     ]
    }
   ],
   "execution_count": 19
  },
  {
   "metadata": {
    "ExecuteTime": {
     "end_time": "2024-07-14T12:42:09.384739Z",
     "start_time": "2024-07-14T12:42:09.369681Z"
    }
   },
   "cell_type": "code",
   "source": [
    "iteration_list=torch.tensor(iteration_list, device='cpu')\n",
    "loss_list=torch.tensor(loss_list, device='cpu')\n",
    "accuracy_list=torch.tensor(accuracy_list, device='cpu')"
   ],
   "id": "2b46f8a5a3a3f046",
   "outputs": [],
   "execution_count": 20
  },
  {
   "metadata": {
    "ExecuteTime": {
     "end_time": "2024-07-14T12:42:09.480358Z",
     "start_time": "2024-07-14T12:42:09.385245Z"
    }
   },
   "cell_type": "code",
   "source": [
    "# 可视化\n",
    "plt.plot(iteration_list, loss_list, label='loss')\n",
    "plt.xlabel(\"iteration\")\n",
    "plt.ylabel(\"loss\")\n",
    "plt.show()"
   ],
   "id": "92399cf28f4109aa",
   "outputs": [
    {
     "data": {
      "text/plain": [
       "<Figure size 640x480 with 1 Axes>"
      ],
      "image/png": "[encoded data removed]"
     },
     "metadata": {},
     "output_type": "display_data"
    }
   ],
   "execution_count": 21
  },
  {
   "metadata": {
    "ExecuteTime": {
     "end_time": "2024-07-14T12:42:09.560322Z",
     "start_time": "2024-07-14T12:42:09.481336Z"
    }
   },
   "cell_type": "code",
   "source": [
    "plt.plot(iteration_list, accuracy_list, label='accuracy')\n",
    "plt.xlabel(\"iteration\")\n",
    "plt.ylabel(\"accuracy\")\n",
    "plt.show()"
   ],
   "id": "2e710fd74b275bc5",
   "outputs": [
    {
     "data": {
      "text/plain": [
       "<Figure size 640x480 with 1 Axes>"
      ],
      "image/png": "[encoded data removed]"
     },
     "metadata": {},
     "output_type": "display_data"
    }
   ],
   "execution_count": 22
  },
  {
   "metadata": {
    "ExecuteTime": {
     "end_time": "2024-07-14T12:42:09.576337Z",
     "start_time": "2024-07-14T12:42:09.561323Z"
    }
   },
   "cell_type": "code",
   "source": "",
   "id": "41349ab87498ba24",
   "outputs": [],
   "execution_count": 22
  }
 ],
 "metadata": {
  "kernelspec": {
   "display_name": "Python 3",
   "language": "python",
   "name": "python3"
  },
  "language_info": {
   "codemirror_mode": {
    "name": "ipython",
    "version": 2
   },
   "file_extension": ".py",
   "mimetype": "text/x-python",
   "name": "python",
   "nbconvert_exporter": "python",
   "pygments_lexer": "ipython2",
   "version": "2.7.6"
  }
 },
 "nbformat": 4,
 "nbformat_minor": 5
}
